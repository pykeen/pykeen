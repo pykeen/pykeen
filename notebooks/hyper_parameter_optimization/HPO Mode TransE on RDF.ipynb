{
 "cells": [
  {
   "cell_type": "code",
   "execution_count": 1,
   "metadata": {},
   "outputs": [],
   "source": [
    "import logging\n",
    "import os\n",
    "import sys\n",
    "import time\n",
    "\n",
    "import numpy as np\n",
    "import matplotlib.pyplot as plt\n",
    "import pykeen\n",
    "from pykeen.kge_models import TransE"
   ]
  },
  {
   "cell_type": "code",
   "execution_count": 2,
   "metadata": {},
   "outputs": [],
   "source": [
    "%matplotlib inline"
   ]
  },
  {
   "cell_type": "code",
   "execution_count": 3,
   "metadata": {},
   "outputs": [],
   "source": [
    "logging.basicConfig(level=logging.INFO)\n",
    "logging.getLogger('pykeen').setLevel(logging.INFO)"
   ]
  },
  {
   "cell_type": "code",
   "execution_count": 4,
   "metadata": {},
   "outputs": [
    {
     "name": "stdout",
     "output_type": "stream",
     "text": [
      "3.7.1 (default, Nov  6 2018, 18:45:35) \n",
      "[Clang 10.0.0 (clang-1000.11.45.5)]\n"
     ]
    }
   ],
   "source": [
    "print(sys.version)"
   ]
  },
  {
   "cell_type": "code",
   "execution_count": 5,
   "metadata": {},
   "outputs": [
    {
     "name": "stdout",
     "output_type": "stream",
     "text": [
      "Fri Apr 12 14:05:17 2019\n"
     ]
    }
   ],
   "source": [
    "print(time.asctime())"
   ]
  },
  {
   "cell_type": "code",
   "execution_count": 6,
   "metadata": {},
   "outputs": [
    {
     "name": "stdout",
     "output_type": "stream",
     "text": [
      "0.0.25\n"
     ]
    }
   ],
   "source": [
    "print(pykeen.get_version())"
   ]
  },
  {
   "cell_type": "markdown",
   "metadata": {},
   "source": [
    "Check which hyper-parameters are required by TransE:"
   ]
  },
  {
   "cell_type": "code",
   "execution_count": 7,
   "metadata": {},
   "outputs": [
    {
     "data": {
      "text/plain": [
       "['embedding_dim',\n",
       " 'margin_loss',\n",
       " 'learning_rate',\n",
       " 'scoring_function',\n",
       " 'normalization_of_entities']"
      ]
     },
     "execution_count": 7,
     "metadata": {},
     "output_type": "execute_result"
    }
   ],
   "source": [
    "TransE.hyper_params"
   ]
  },
  {
   "cell_type": "markdown",
   "metadata": {},
   "source": [
    "Define output directory:"
   ]
  },
  {
   "cell_type": "code",
   "execution_count": 8,
   "metadata": {},
   "outputs": [],
   "source": [
    "output_directory = os.path.join(\n",
    "    os.path.expanduser('~'), \n",
    "    'Desktop', \n",
    "    'pykeen_test'\n",
    ")"
   ]
  },
  {
   "cell_type": "markdown",
   "metadata": {},
   "source": [
    "Define hyper-parameters inclduing the evaluation information:\n",
    " * Define the hyper-parameter optimization mode: **HPO_mode**\n",
    " * Define for each hyper-parameter a list of values (single valued lists are possible)\n",
    " * Define the number of hyper-parameter optimization iterations: **maximum_number_of_hpo_iters**\n",
    " * Define the path to the test set (**test_set_path**) or define the ratio of the training set that should be used as test set (**test_set_ratio**)\n",
    " * Define whether you want to compute the metrics (mean rank and hits@k) in raw or in a filtered setting: **filter_negative_triples**"
   ]
  },
  {
   "cell_type": "code",
   "execution_count": 11,
   "metadata": {},
   "outputs": [],
   "source": [
    "config = dict(\n",
    "    training_set_path           = '../../tests/resources/data/rdf.nt',\n",
    "    test_set_path               = '../../tests/resources/data/rdf.nt', # Just for illustration, we use the training set also as test set\n",
    "    execution_mode              = 'HPO_mode', # Define hyper-parameter optimization mode\n",
    "    random_seed                 = 0,\n",
    "    kg_embedding_model_name     = 'TransE',\n",
    "    embedding_dim               = [10,20,50,100],\n",
    "    scoring_function            = [1,2],  \n",
    "    normalization_of_entities   = [2],  # corresponds to L2\n",
    "    margin_loss                 = [1,2,3,4,5,6,7,8,9,10],\n",
    "    learning_rate               = [0.1,0.01,0.001],\n",
    "    num_epochs                  = [50,100],  \n",
    "    batch_size                  = [32],\n",
    "    filter_negative_triples     = True,\n",
    "    maximum_number_of_hpo_iters = 50, # Define the number HPO iterations\n",
    "    preferred_device            = 'cpu'\n",
    ")"
   ]
  },
  {
   "cell_type": "markdown",
   "metadata": {},
   "source": [
    "Train and evaluate TransE:"
   ]
  },
  {
   "cell_type": "code",
   "execution_count": 12,
   "metadata": {},
   "outputs": [
    {
     "name": "stderr",
     "output_type": "stream",
     "text": [
      "HPO Iteration:   0%|          | 0/50 [00:00<?, ?it/s]/Users/mehdi/virtual_envs/pykeen_python_3_7/lib/python3.7/site-packages/torch/nn/functional.py:52: UserWarning: size_average and reduce args will be deprecated, please use reduction='elementwise_mean' instead.\n",
      "  warnings.warn(warning.format(ret))\n",
      "\n",
      "Training epoch:   0%|          | 0/50 [00:00<?, ?it/s]\u001b[A\n",
      "Training epoch:  22%|██▏       | 11/50 [00:00<00:00, 109.15it/s]\u001b[A\n",
      "Training epoch:  54%|█████▍    | 27/50 [00:00<00:00, 119.47it/s]\u001b[A\n",
      "Training epoch:  76%|███████▌  | 38/50 [00:00<00:00, 113.64it/s]\u001b[A\n",
      "Training epoch:  92%|█████████▏| 46/50 [00:00<00:00, 98.19it/s] \u001b[A\n",
      "                                                               \u001b[AINFO:pykeen.utilities.evaluation_utils.metrics_computations:Evaluation took 0.10s seconds\n",
      "HPO Iteration:   2%|▏         | 1/50 [00:00<00:30,  1.62it/s]\n",
      "Training epoch:   0%|          | 0/100 [00:00<?, ?it/s]\u001b[A\n",
      "Training epoch:  10%|█         | 10/100 [00:00<00:00, 98.34it/s]\u001b[A\n",
      "Training epoch:  26%|██▌       | 26/100 [00:00<00:00, 110.21it/s]\u001b[A\n",
      "Training epoch:  42%|████▏     | 42/100 [00:00<00:00, 120.55it/s]\u001b[A\n",
      "Training epoch:  57%|█████▋    | 57/100 [00:00<00:00, 127.33it/s]\u001b[A\n",
      "Training epoch:  68%|██████▊   | 68/100 [00:00<00:00, 120.52it/s]\u001b[A\n",
      "Training epoch:  82%|████████▏ | 82/100 [00:00<00:00, 124.04it/s]\u001b[A\n",
      "Training epoch:  96%|█████████▌| 96/100 [00:00<00:00, 127.57it/s]\u001b[A\n",
      "                                                                 \u001b[AINFO:pykeen.utilities.evaluation_utils.metrics_computations:Evaluation took 0.09s seconds\n",
      "HPO Iteration:   4%|▍         | 2/50 [00:01<00:33,  1.44it/s]\n",
      "Training epoch:   0%|          | 0/100 [00:00<?, ?it/s]\u001b[A\n",
      "Training epoch:  12%|█▏        | 12/100 [00:00<00:00, 116.25it/s]\u001b[A\n",
      "Training epoch:  28%|██▊       | 28/100 [00:00<00:00, 126.07it/s]\u001b[A\n",
      "Training epoch:  45%|████▌     | 45/100 [00:00<00:00, 135.50it/s]\u001b[A\n",
      "Training epoch:  60%|██████    | 60/100 [00:00<00:00, 138.80it/s]\u001b[A\n",
      "Training epoch:  72%|███████▏  | 72/100 [00:00<00:00, 126.01it/s]\u001b[A\n",
      "Training epoch:  84%|████████▍ | 84/100 [00:00<00:00, 117.41it/s]\u001b[A\n",
      "Training epoch:  96%|█████████▌| 96/100 [00:00<00:00, 117.08it/s]\u001b[A\n",
      "                                                                 \u001b[AINFO:pykeen.utilities.evaluation_utils.metrics_computations:Evaluation took 0.10s seconds\n",
      "HPO Iteration:   6%|▌         | 3/50 [00:02<00:35,  1.33it/s]\n",
      "Training epoch:   0%|          | 0/50 [00:00<?, ?it/s]\u001b[A\n",
      "Training epoch:  30%|███       | 15/50 [00:00<00:00, 143.83it/s]\u001b[A\n",
      "Training epoch:  56%|█████▌    | 28/50 [00:00<00:00, 138.38it/s]\u001b[A\n",
      "Training epoch:  88%|████████▊ | 44/50 [00:00<00:00, 142.80it/s]\u001b[A\n",
      "                                                                \u001b[AINFO:pykeen.utilities.evaluation_utils.metrics_computations:Evaluation took 0.09s seconds\n",
      "HPO Iteration:   8%|▊         | 4/50 [00:02<00:30,  1.51it/s]\n",
      "Training epoch:   0%|          | 0/50 [00:00<?, ?it/s]\u001b[A\n",
      "Training epoch:  32%|███▏      | 16/50 [00:00<00:00, 158.52it/s]\u001b[A\n",
      "Training epoch:  64%|██████▍   | 32/50 [00:00<00:00, 157.10it/s]\u001b[A\n",
      "Training epoch:  92%|█████████▏| 46/50 [00:00<00:00, 148.89it/s]\u001b[A\n",
      "                                                                \u001b[AINFO:pykeen.utilities.evaluation_utils.metrics_computations:Evaluation took 0.09s seconds\n",
      "HPO Iteration:  10%|█         | 5/50 [00:03<00:26,  1.68it/s]\n",
      "Training epoch:   0%|          | 0/50 [00:00<?, ?it/s]\u001b[A\n",
      "Training epoch:  30%|███       | 15/50 [00:00<00:00, 144.80it/s]\u001b[A\n",
      "Training epoch:  64%|██████▍   | 32/50 [00:00<00:00, 151.23it/s]\u001b[A\n",
      "Training epoch:  98%|█████████▊| 49/50 [00:00<00:00, 154.84it/s]\u001b[A\n",
      "                                                                \u001b[AINFO:pykeen.utilities.evaluation_utils.metrics_computations:Evaluation took 0.09s seconds\n",
      "HPO Iteration:  12%|█▏        | 6/50 [00:03<00:23,  1.84it/s]\n",
      "Training epoch:   0%|          | 0/50 [00:00<?, ?it/s]\u001b[A\n",
      "Training epoch:  30%|███       | 15/50 [00:00<00:00, 142.78it/s]\u001b[A\n",
      "Training epoch:  64%|██████▍   | 32/50 [00:00<00:00, 149.01it/s]\u001b[A\n",
      "Training epoch: 100%|██████████| 50/50 [00:00<00:00, 155.30it/s]\u001b[A\n",
      "                                                                \u001b[AINFO:pykeen.utilities.evaluation_utils.metrics_computations:Evaluation took 0.09s seconds\n",
      "HPO Iteration:  14%|█▍        | 7/50 [00:04<00:21,  1.98it/s]\n",
      "Training epoch:   0%|          | 0/50 [00:00<?, ?it/s]\u001b[A\n",
      "Training epoch:  26%|██▌       | 13/50 [00:00<00:00, 129.64it/s]\u001b[A\n",
      "Training epoch:  60%|██████    | 30/50 [00:00<00:00, 139.33it/s]\u001b[A\n",
      "Training epoch:  96%|█████████▌| 48/50 [00:00<00:00, 147.83it/s]\u001b[A\n",
      "                                                                \u001b[AINFO:pykeen.utilities.evaluation_utils.metrics_computations:Evaluation took 0.11s seconds\n",
      "HPO Iteration:  16%|█▌        | 8/50 [00:04<00:20,  2.07it/s]\n",
      "Training epoch:   0%|          | 0/50 [00:00<?, ?it/s]\u001b[A\n",
      "Training epoch:  14%|█▍        | 7/50 [00:00<00:00, 66.85it/s]\u001b[A\n",
      "Training epoch:  32%|███▏      | 16/50 [00:00<00:00, 71.43it/s]\u001b[A\n",
      "Training epoch:  54%|█████▍    | 27/50 [00:00<00:00, 79.76it/s]\u001b[A\n",
      "Training epoch:  76%|███████▌  | 38/50 [00:00<00:00, 86.39it/s]\u001b[A\n",
      "                                                               \u001b[AINFO:pykeen.utilities.evaluation_utils.metrics_computations:Evaluation took 0.08s seconds\n",
      "HPO Iteration:  18%|█▊        | 9/50 [00:05<00:21,  1.92it/s]\n",
      "Training epoch:   0%|          | 0/50 [00:00<?, ?it/s]\u001b[A\n",
      "Training epoch:  28%|██▊       | 14/50 [00:00<00:00, 134.16it/s]\u001b[A\n",
      "Training epoch:  60%|██████    | 30/50 [00:00<00:00, 139.98it/s]\u001b[A\n",
      "Training epoch:  92%|█████████▏| 46/50 [00:00<00:00, 144.25it/s]\u001b[A\n",
      "                                                                \u001b[AINFO:pykeen.utilities.evaluation_utils.metrics_computations:Evaluation took 0.09s seconds\n",
      "HPO Iteration:  20%|██        | 10/50 [00:05<00:19,  2.01it/s]\n",
      "Training epoch:   0%|          | 0/100 [00:00<?, ?it/s]\u001b[A\n",
      "Training epoch:  14%|█▍        | 14/100 [00:00<00:00, 139.85it/s]\u001b[A\n",
      "Training epoch:  31%|███       | 31/100 [00:00<00:00, 147.15it/s]\u001b[A\n",
      "Training epoch:  48%|████▊     | 48/100 [00:00<00:00, 152.86it/s]\u001b[A\n",
      "Training epoch:  64%|██████▍   | 64/100 [00:00<00:00, 153.74it/s]\u001b[A\n",
      "Training epoch:  81%|████████  | 81/100 [00:00<00:00, 158.15it/s]\u001b[A\n",
      "Training epoch:  99%|█████████▉| 99/100 [00:00<00:00, 161.92it/s]\u001b[A\n",
      "                                                                 \u001b[AINFO:pykeen.utilities.evaluation_utils.metrics_computations:Evaluation took 0.08s seconds\n",
      "HPO Iteration:  22%|██▏       | 11/50 [00:06<00:21,  1.78it/s]\n",
      "Training epoch:   0%|          | 0/50 [00:00<?, ?it/s]\u001b[A\n",
      "Training epoch:  34%|███▍      | 17/50 [00:00<00:00, 167.48it/s]\u001b[A\n",
      "Training epoch:  64%|██████▍   | 32/50 [00:00<00:00, 160.30it/s]\u001b[A\n",
      "Training epoch:  96%|█████████▌| 48/50 [00:00<00:00, 159.78it/s]\u001b[A\n",
      "                                                                \u001b[AINFO:pykeen.utilities.evaluation_utils.metrics_computations:Evaluation took 0.09s seconds\n",
      "HPO Iteration:  24%|██▍       | 12/50 [00:06<00:19,  1.93it/s]\n",
      "Training epoch:   0%|          | 0/100 [00:00<?, ?it/s]\u001b[A\n",
      "Training epoch:  14%|█▍        | 14/100 [00:00<00:00, 132.81it/s]\u001b[A\n",
      "Training epoch:  31%|███       | 31/100 [00:00<00:00, 139.47it/s]\u001b[A\n",
      "Training epoch:  44%|████▍     | 44/100 [00:00<00:00, 134.24it/s]\u001b[A\n",
      "Training epoch:  54%|█████▍    | 54/100 [00:00<00:00, 119.72it/s]\u001b[A\n",
      "Training epoch:  67%|██████▋   | 67/100 [00:00<00:00, 119.59it/s]\u001b[A\n",
      "Training epoch:  79%|███████▉  | 79/100 [00:00<00:00, 119.52it/s]\u001b[A\n",
      "Training epoch:  96%|█████████▌| 96/100 [00:00<00:00, 129.68it/s]\u001b[A\n",
      "                                                                 \u001b[AINFO:pykeen.utilities.evaluation_utils.metrics_computations:Evaluation took 0.09s seconds\n",
      "HPO Iteration:  26%|██▌       | 13/50 [00:07<00:23,  1.60it/s]\n",
      "Training epoch:   0%|          | 0/50 [00:00<?, ?it/s]\u001b[A\n",
      "Training epoch:  30%|███       | 15/50 [00:00<00:00, 149.58it/s]\u001b[A\n",
      "Training epoch:  64%|██████▍   | 32/50 [00:00<00:00, 154.84it/s]\u001b[A\n",
      "Training epoch:  98%|█████████▊| 49/50 [00:00<00:00, 158.61it/s]\u001b[A\n",
      "                                                                \u001b[AINFO:pykeen.utilities.evaluation_utils.metrics_computations:Evaluation took 0.10s seconds\n"
     ]
    },
    {
     "name": "stderr",
     "output_type": "stream",
     "text": [
      "HPO Iteration:  28%|██▊       | 14/50 [00:08<00:20,  1.78it/s]\n",
      "Training epoch:   0%|          | 0/100 [00:00<?, ?it/s]\u001b[A\n",
      "Training epoch:  15%|█▌        | 15/100 [00:00<00:00, 145.77it/s]\u001b[A\n",
      "Training epoch:  29%|██▉       | 29/100 [00:00<00:00, 142.59it/s]\u001b[A\n",
      "Training epoch:  43%|████▎     | 43/100 [00:00<00:00, 141.62it/s]\u001b[A\n",
      "Training epoch:  59%|█████▉    | 59/100 [00:00<00:00, 143.68it/s]\u001b[A\n",
      "Training epoch:  77%|███████▋  | 77/100 [00:00<00:00, 150.80it/s]\u001b[A\n",
      "Training epoch:  94%|█████████▍| 94/100 [00:00<00:00, 153.57it/s]\u001b[A\n",
      "                                                                 \u001b[AINFO:pykeen.utilities.evaluation_utils.metrics_computations:Evaluation took 0.08s seconds\n",
      "HPO Iteration:  30%|███       | 15/50 [00:08<00:21,  1.61it/s]\n",
      "Training epoch:   0%|          | 0/50 [00:00<?, ?it/s]\u001b[A\n",
      "Training epoch:  40%|████      | 20/50 [00:00<00:00, 191.42it/s]\u001b[A\n",
      "Training epoch:  76%|███████▌  | 38/50 [00:00<00:00, 186.42it/s]\u001b[A\n",
      "                                                                \u001b[AINFO:pykeen.utilities.evaluation_utils.metrics_computations:Evaluation took 0.07s seconds\n",
      "HPO Iteration:  32%|███▏      | 16/50 [00:09<00:18,  1.85it/s]\n",
      "Training epoch:   0%|          | 0/50 [00:00<?, ?it/s]\u001b[A\n",
      "Training epoch:  40%|████      | 20/50 [00:00<00:00, 193.11it/s]\u001b[A\n",
      "Training epoch:  78%|███████▊  | 39/50 [00:00<00:00, 191.15it/s]\u001b[A\n",
      "                                                                \u001b[AINFO:pykeen.utilities.evaluation_utils.metrics_computations:Evaluation took 0.07s seconds\n",
      "HPO Iteration:  34%|███▍      | 17/50 [00:09<00:15,  2.08it/s]\n",
      "Training epoch:   0%|          | 0/50 [00:00<?, ?it/s]\u001b[A\n",
      "Training epoch:  38%|███▊      | 19/50 [00:00<00:00, 182.81it/s]\u001b[A\n",
      "Training epoch:  74%|███████▍  | 37/50 [00:00<00:00, 178.98it/s]\u001b[A\n",
      "                                                                \u001b[AINFO:pykeen.utilities.evaluation_utils.metrics_computations:Evaluation took 0.08s seconds\n",
      "HPO Iteration:  36%|███▌      | 18/50 [00:09<00:14,  2.20it/s]\n",
      "Training epoch:   0%|          | 0/100 [00:00<?, ?it/s]\u001b[A\n",
      "Training epoch:  16%|█▌        | 16/100 [00:00<00:00, 157.49it/s]\u001b[A\n",
      "Training epoch:  35%|███▌      | 35/100 [00:00<00:00, 164.99it/s]\u001b[A\n",
      "Training epoch:  54%|█████▍    | 54/100 [00:00<00:00, 171.75it/s]\u001b[A\n",
      "Training epoch:  74%|███████▍  | 74/100 [00:00<00:00, 177.49it/s]\u001b[A\n",
      "Training epoch:  92%|█████████▏| 92/100 [00:00<00:00, 176.54it/s]\u001b[A\n",
      "                                                                 \u001b[AINFO:pykeen.utilities.evaluation_utils.metrics_computations:Evaluation took 0.08s seconds\n",
      "HPO Iteration:  38%|███▊      | 19/50 [00:10<00:15,  1.95it/s]\n",
      "Training epoch:   0%|          | 0/50 [00:00<?, ?it/s]\u001b[A\n",
      "Training epoch:  36%|███▌      | 18/50 [00:00<00:00, 174.17it/s]\u001b[A\n",
      "Training epoch:  72%|███████▏  | 36/50 [00:00<00:00, 175.69it/s]\u001b[A\n",
      "                                                                \u001b[AINFO:pykeen.utilities.evaluation_utils.metrics_computations:Evaluation took 0.07s seconds\n",
      "HPO Iteration:  40%|████      | 20/50 [00:10<00:14,  2.13it/s]\n",
      "Training epoch:   0%|          | 0/50 [00:00<?, ?it/s]\u001b[A\n",
      "Training epoch:  38%|███▊      | 19/50 [00:00<00:00, 182.71it/s]\u001b[A\n",
      "Training epoch:  76%|███████▌  | 38/50 [00:00<00:00, 183.89it/s]\u001b[A\n",
      "                                                                \u001b[AINFO:pykeen.utilities.evaluation_utils.metrics_computations:Evaluation took 0.07s seconds\n",
      "HPO Iteration:  42%|████▏     | 21/50 [00:11<00:12,  2.31it/s]\n",
      "Training epoch:   0%|          | 0/100 [00:00<?, ?it/s]\u001b[A\n",
      "Training epoch:  18%|█▊        | 18/100 [00:00<00:00, 179.81it/s]\u001b[A\n",
      "Training epoch:  37%|███▋      | 37/100 [00:00<00:00, 181.99it/s]\u001b[A\n",
      "Training epoch:  56%|█████▌    | 56/100 [00:00<00:00, 183.24it/s]\u001b[A\n",
      "Training epoch:  75%|███████▌  | 75/100 [00:00<00:00, 184.98it/s]\u001b[A\n",
      "Training epoch:  94%|█████████▍| 94/100 [00:00<00:00, 186.10it/s]\u001b[A\n",
      "                                                                 \u001b[AINFO:pykeen.utilities.evaluation_utils.metrics_computations:Evaluation took 0.07s seconds\n",
      "HPO Iteration:  44%|████▍     | 22/50 [00:11<00:13,  2.04it/s]\n",
      "Training epoch:   0%|          | 0/50 [00:00<?, ?it/s]\u001b[A\n",
      "Training epoch:  32%|███▏      | 16/50 [00:00<00:00, 154.60it/s]\u001b[A\n",
      "Training epoch:  62%|██████▏   | 31/50 [00:00<00:00, 151.95it/s]\u001b[A\n",
      "Training epoch:  92%|█████████▏| 46/50 [00:00<00:00, 149.71it/s]\u001b[A\n",
      "                                                                \u001b[AINFO:pykeen.utilities.evaluation_utils.metrics_computations:Evaluation took 0.08s seconds\n",
      "HPO Iteration:  46%|████▌     | 23/50 [00:12<00:12,  2.11it/s]\n",
      "Training epoch:   0%|          | 0/100 [00:00<?, ?it/s]\u001b[A\n",
      "Training epoch:  17%|█▋        | 17/100 [00:00<00:00, 168.16it/s]\u001b[A\n",
      "Training epoch:  31%|███       | 31/100 [00:00<00:00, 155.05it/s]\u001b[A\n",
      "Training epoch:  43%|████▎     | 43/100 [00:00<00:00, 140.02it/s]\u001b[A\n",
      "Training epoch:  57%|█████▋    | 57/100 [00:00<00:00, 137.82it/s]\u001b[A\n",
      "Training epoch:  71%|███████   | 71/100 [00:00<00:00, 137.12it/s]\u001b[A\n",
      "Training epoch:  88%|████████▊ | 88/100 [00:00<00:00, 144.83it/s]\u001b[A\n",
      "                                                                 \u001b[AINFO:pykeen.utilities.evaluation_utils.metrics_computations:Evaluation took 0.07s seconds\n",
      "HPO Iteration:  48%|████▊     | 24/50 [00:13<00:14,  1.76it/s]\n",
      "Training epoch:   0%|          | 0/50 [00:00<?, ?it/s]\u001b[A\n",
      "Training epoch:  38%|███▊      | 19/50 [00:00<00:00, 183.57it/s]\u001b[A\n",
      "Training epoch:  76%|███████▌  | 38/50 [00:00<00:00, 183.80it/s]\u001b[A\n",
      "                                                                \u001b[AINFO:pykeen.utilities.evaluation_utils.metrics_computations:Evaluation took 0.08s seconds\n",
      "HPO Iteration:  50%|█████     | 25/50 [00:13<00:12,  1.96it/s]\n",
      "Training epoch:   0%|          | 0/50 [00:00<?, ?it/s]\u001b[A\n",
      "Training epoch:  30%|███       | 15/50 [00:00<00:00, 146.10it/s]\u001b[A\n",
      "Training epoch:  60%|██████    | 30/50 [00:00<00:00, 146.01it/s]\u001b[A\n",
      "Training epoch:  84%|████████▍ | 42/50 [00:00<00:00, 135.25it/s]\u001b[A\n",
      "                                                                \u001b[AINFO:pykeen.utilities.evaluation_utils.metrics_computations:Evaluation took 0.08s seconds\n",
      "HPO Iteration:  52%|█████▏    | 26/50 [00:13<00:11,  2.03it/s]\n",
      "Training epoch:   0%|          | 0/50 [00:00<?, ?it/s]\u001b[A\n",
      "Training epoch:  34%|███▍      | 17/50 [00:00<00:00, 165.08it/s]\u001b[A\n",
      "Training epoch:  66%|██████▌   | 33/50 [00:00<00:00, 160.91it/s]\u001b[A\n",
      "Training epoch:  96%|█████████▌| 48/50 [00:00<00:00, 157.02it/s]\u001b[A\n",
      "                                                                \u001b[AINFO:pykeen.utilities.evaluation_utils.metrics_computations:Evaluation took 0.09s seconds\n",
      "HPO Iteration:  54%|█████▍    | 27/50 [00:14<00:10,  2.11it/s]\n",
      "Training epoch:   0%|          | 0/50 [00:00<?, ?it/s]\u001b[A\n",
      "Training epoch:  32%|███▏      | 16/50 [00:00<00:00, 154.22it/s]\u001b[A\n",
      "Training epoch:  64%|██████▍   | 32/50 [00:00<00:00, 155.57it/s]\u001b[A\n",
      "Training epoch:  98%|█████████▊| 49/50 [00:00<00:00, 158.39it/s]\u001b[A\n",
      "                                                                \u001b[AINFO:pykeen.utilities.evaluation_utils.metrics_computations:Evaluation took 0.08s seconds\n",
      "HPO Iteration:  56%|█████▌    | 28/50 [00:14<00:09,  2.21it/s]\n",
      "Training epoch:   0%|          | 0/50 [00:00<?, ?it/s]\u001b[A\n",
      "Training epoch:  32%|███▏      | 16/50 [00:00<00:00, 148.41it/s]\u001b[A\n",
      "Training epoch:  62%|██████▏   | 31/50 [00:00<00:00, 147.10it/s]\u001b[A\n",
      "Training epoch:  94%|█████████▍| 47/50 [00:00<00:00, 150.34it/s]\u001b[A\n",
      "                                                                \u001b[AINFO:pykeen.utilities.evaluation_utils.metrics_computations:Evaluation took 0.08s seconds\n",
      "HPO Iteration:  58%|█████▊    | 29/50 [00:15<00:09,  2.25it/s]\n",
      "Training epoch:   0%|          | 0/50 [00:00<?, ?it/s]\u001b[A\n",
      "Training epoch:  38%|███▊      | 19/50 [00:00<00:00, 183.70it/s]\u001b[A\n",
      "Training epoch:  68%|██████▊   | 34/50 [00:00<00:00, 170.07it/s]\u001b[A\n",
      "Training epoch:  98%|█████████▊| 49/50 [00:00<00:00, 160.55it/s]\u001b[A\n",
      "                                                                \u001b[AINFO:pykeen.utilities.evaluation_utils.metrics_computations:Evaluation took 0.08s seconds\n",
      "HPO Iteration:  60%|██████    | 30/50 [00:15<00:08,  2.30it/s]\n",
      "Training epoch:   0%|          | 0/100 [00:00<?, ?it/s]\u001b[A\n"
     ]
    },
    {
     "name": "stderr",
     "output_type": "stream",
     "text": [
      "Training epoch:  19%|█▉        | 19/100 [00:00<00:00, 185.54it/s]\u001b[A\n",
      "Training epoch:  37%|███▋      | 37/100 [00:00<00:00, 181.68it/s]\u001b[A\n",
      "Training epoch:  55%|█████▌    | 55/100 [00:00<00:00, 180.82it/s]\u001b[A\n",
      "Training epoch:  74%|███████▍  | 74/100 [00:00<00:00, 181.80it/s]\u001b[A\n",
      "Training epoch:  92%|█████████▏| 92/100 [00:00<00:00, 179.47it/s]\u001b[A\n",
      "                                                                 \u001b[AINFO:pykeen.utilities.evaluation_utils.metrics_computations:Evaluation took 0.07s seconds\n",
      "HPO Iteration:  62%|██████▏   | 31/50 [00:16<00:09,  2.01it/s]\n",
      "Training epoch:   0%|          | 0/100 [00:00<?, ?it/s]\u001b[A\n",
      "Training epoch:  18%|█▊        | 18/100 [00:00<00:00, 175.77it/s]\u001b[A\n",
      "Training epoch:  34%|███▍      | 34/100 [00:00<00:00, 170.69it/s]\u001b[A\n",
      "Training epoch:  53%|█████▎    | 53/100 [00:00<00:00, 175.10it/s]\u001b[A\n",
      "Training epoch:  72%|███████▏  | 72/100 [00:00<00:00, 177.16it/s]\u001b[A\n",
      "Training epoch:  91%|█████████ | 91/100 [00:00<00:00, 179.37it/s]\u001b[A\n",
      "                                                                 \u001b[AINFO:pykeen.utilities.evaluation_utils.metrics_computations:Evaluation took 0.08s seconds\n",
      "HPO Iteration:  64%|██████▍   | 32/50 [00:16<00:09,  1.84it/s]\n",
      "Training epoch:   0%|          | 0/100 [00:00<?, ?it/s]\u001b[A\n",
      "Training epoch:  16%|█▌        | 16/100 [00:00<00:00, 154.73it/s]\u001b[A\n",
      "Training epoch:  33%|███▎      | 33/100 [00:00<00:00, 157.26it/s]\u001b[A\n",
      "Training epoch:  49%|████▉     | 49/100 [00:00<00:00, 156.07it/s]\u001b[A\n",
      "Training epoch:  62%|██████▏   | 62/100 [00:00<00:00, 143.50it/s]\u001b[A\n",
      "Training epoch:  77%|███████▋  | 77/100 [00:00<00:00, 145.06it/s]\u001b[A\n",
      "Training epoch:  93%|█████████▎| 93/100 [00:00<00:00, 147.87it/s]\u001b[A\n",
      "                                                                 \u001b[AINFO:pykeen.utilities.evaluation_utils.metrics_computations:Evaluation took 0.07s seconds\n",
      "HPO Iteration:  66%|██████▌   | 33/50 [00:17<00:10,  1.64it/s]\n",
      "Training epoch:   0%|          | 0/50 [00:00<?, ?it/s]\u001b[A\n",
      "Training epoch:  30%|███       | 15/50 [00:00<00:00, 142.54it/s]\u001b[A\n",
      "Training epoch:  58%|█████▊    | 29/50 [00:00<00:00, 141.29it/s]\u001b[A\n",
      "Training epoch:  88%|████████▊ | 44/50 [00:00<00:00, 143.22it/s]\u001b[A\n",
      "                                                                \u001b[AINFO:pykeen.utilities.evaluation_utils.metrics_computations:Evaluation took 0.08s seconds\n",
      "HPO Iteration:  68%|██████▊   | 34/50 [00:18<00:08,  1.78it/s]\n",
      "Training epoch:   0%|          | 0/50 [00:00<?, ?it/s]\u001b[A\n",
      "Training epoch:  32%|███▏      | 16/50 [00:00<00:00, 150.86it/s]\u001b[A\n",
      "Training epoch:  60%|██████    | 30/50 [00:00<00:00, 146.07it/s]\u001b[A\n",
      "Training epoch:  88%|████████▊ | 44/50 [00:00<00:00, 141.78it/s]\u001b[A\n",
      "                                                                \u001b[AINFO:pykeen.utilities.evaluation_utils.metrics_computations:Evaluation took 0.09s seconds\n",
      "HPO Iteration:  70%|███████   | 35/50 [00:18<00:07,  1.89it/s]\n",
      "Training epoch:   0%|          | 0/50 [00:00<?, ?it/s]\u001b[A\n",
      "Training epoch:  30%|███       | 15/50 [00:00<00:00, 149.79it/s]\u001b[A\n",
      "Training epoch:  64%|██████▍   | 32/50 [00:00<00:00, 153.97it/s]\u001b[A\n",
      "Training epoch:  96%|█████████▌| 48/50 [00:00<00:00, 154.92it/s]\u001b[A\n",
      "                                                                \u001b[AINFO:pykeen.utilities.evaluation_utils.metrics_computations:Evaluation took 0.08s seconds\n",
      "HPO Iteration:  72%|███████▏  | 36/50 [00:18<00:06,  2.02it/s]\n",
      "Training epoch:   0%|          | 0/100 [00:00<?, ?it/s]\u001b[A\n",
      "Training epoch:  19%|█▉        | 19/100 [00:00<00:00, 180.32it/s]\u001b[A\n",
      "Training epoch:  34%|███▍      | 34/100 [00:00<00:00, 169.99it/s]\u001b[A\n",
      "Training epoch:  50%|█████     | 50/100 [00:00<00:00, 166.21it/s]\u001b[A\n",
      "Training epoch:  66%|██████▌   | 66/100 [00:00<00:00, 161.66it/s]\u001b[A\n",
      "Training epoch:  83%|████████▎ | 83/100 [00:00<00:00, 161.88it/s]\u001b[A\n",
      "Training epoch:  99%|█████████▉| 99/100 [00:00<00:00, 159.75it/s]\u001b[A\n",
      "                                                                 \u001b[AINFO:pykeen.utilities.evaluation_utils.metrics_computations:Evaluation took 0.08s seconds\n",
      "HPO Iteration:  74%|███████▍  | 37/50 [00:19<00:07,  1.77it/s]\n",
      "Training epoch:   0%|          | 0/100 [00:00<?, ?it/s]\u001b[A\n",
      "Training epoch:  17%|█▋        | 17/100 [00:00<00:00, 164.63it/s]\u001b[A\n",
      "Training epoch:  34%|███▍      | 34/100 [00:00<00:00, 164.19it/s]\u001b[A\n",
      "Training epoch:  51%|█████     | 51/100 [00:00<00:00, 164.17it/s]\u001b[A\n",
      "Training epoch:  69%|██████▉   | 69/100 [00:00<00:00, 166.68it/s]\u001b[A\n",
      "Training epoch:  87%|████████▋ | 87/100 [00:00<00:00, 168.53it/s]\u001b[A\n",
      "                                                                 \u001b[AINFO:pykeen.utilities.evaluation_utils.metrics_computations:Evaluation took 0.07s seconds\n",
      "HPO Iteration:  76%|███████▌  | 38/50 [00:20<00:07,  1.67it/s]\n",
      "Training epoch:   0%|          | 0/50 [00:00<?, ?it/s]\u001b[A\n",
      "Training epoch:  34%|███▍      | 17/50 [00:00<00:00, 168.73it/s]\u001b[A\n",
      "Training epoch:  66%|██████▌   | 33/50 [00:00<00:00, 164.58it/s]\u001b[A\n",
      "Training epoch:  98%|█████████▊| 49/50 [00:00<00:00, 162.95it/s]\u001b[A\n",
      "                                                                \u001b[AINFO:pykeen.utilities.evaluation_utils.metrics_computations:Evaluation took 0.08s seconds\n",
      "HPO Iteration:  78%|███████▊  | 39/50 [00:20<00:05,  1.85it/s]\n",
      "Training epoch:   0%|          | 0/100 [00:00<?, ?it/s]\u001b[A\n",
      "Training epoch:  19%|█▉        | 19/100 [00:00<00:00, 185.68it/s]\u001b[A\n",
      "Training epoch:  37%|███▋      | 37/100 [00:00<00:00, 182.69it/s]\u001b[A\n",
      "Training epoch:  55%|█████▌    | 55/100 [00:00<00:00, 181.12it/s]\u001b[A\n",
      "Training epoch:  74%|███████▍  | 74/100 [00:00<00:00, 181.73it/s]\u001b[A\n",
      "Training epoch:  93%|█████████▎| 93/100 [00:00<00:00, 182.02it/s]\u001b[A\n",
      "                                                                 \u001b[AINFO:pykeen.utilities.evaluation_utils.metrics_computations:Evaluation took 0.07s seconds\n",
      "HPO Iteration:  80%|████████  | 40/50 [00:21<00:05,  1.75it/s]\n",
      "Training epoch:   0%|          | 0/100 [00:00<?, ?it/s]\u001b[A\n",
      "Training epoch:  17%|█▋        | 17/100 [00:00<00:00, 166.35it/s]\u001b[A\n",
      "Training epoch:  34%|███▍      | 34/100 [00:00<00:00, 166.84it/s]\u001b[A\n",
      "Training epoch:  51%|█████     | 51/100 [00:00<00:00, 165.43it/s]\u001b[A\n",
      "Training epoch:  68%|██████▊   | 68/100 [00:00<00:00, 166.75it/s]\u001b[A\n",
      "Training epoch:  86%|████████▌ | 86/100 [00:00<00:00, 168.18it/s]\u001b[A\n",
      "                                                                 \u001b[AINFO:pykeen.utilities.evaluation_utils.metrics_computations:Evaluation took 0.08s seconds\n",
      "HPO Iteration:  82%|████████▏ | 41/50 [00:22<00:05,  1.65it/s]\n",
      "Training epoch:   0%|          | 0/50 [00:00<?, ?it/s]\u001b[A\n",
      "Training epoch:  34%|███▍      | 17/50 [00:00<00:00, 161.80it/s]\u001b[A\n",
      "Training epoch:  66%|██████▌   | 33/50 [00:00<00:00, 159.77it/s]\u001b[A\n",
      "Training epoch:  96%|█████████▌| 48/50 [00:00<00:00, 154.33it/s]\u001b[A\n",
      "                                                                \u001b[AINFO:pykeen.utilities.evaluation_utils.metrics_computations:Evaluation took 0.09s seconds\n",
      "HPO Iteration:  84%|████████▍ | 42/50 [00:22<00:04,  1.81it/s]\n",
      "Training epoch:   0%|          | 0/50 [00:00<?, ?it/s]\u001b[A\n",
      "Training epoch:  32%|███▏      | 16/50 [00:00<00:00, 155.43it/s]\u001b[A\n",
      "Training epoch:  68%|██████▊   | 34/50 [00:00<00:00, 159.99it/s]\u001b[A\n",
      "                                                                \u001b[AINFO:pykeen.utilities.evaluation_utils.metrics_computations:Evaluation took 0.08s seconds\n",
      "HPO Iteration:  86%|████████▌ | 43/50 [00:22<00:03,  1.98it/s]\n",
      "Training epoch:   0%|          | 0/50 [00:00<?, ?it/s]\u001b[A\n",
      "Training epoch:  34%|███▍      | 17/50 [00:00<00:00, 169.95it/s]\u001b[A\n",
      "Training epoch:  68%|██████▊   | 34/50 [00:00<00:00, 168.07it/s]\u001b[A\n",
      "                                                                \u001b[AINFO:pykeen.utilities.evaluation_utils.metrics_computations:Evaluation took 0.09s seconds\n",
      "HPO Iteration:  88%|████████▊ | 44/50 [00:23<00:02,  2.12it/s]\n",
      "Training epoch:   0%|          | 0/100 [00:00<?, ?it/s]\u001b[A\n",
      "Training epoch:  16%|█▌        | 16/100 [00:00<00:00, 156.37it/s]\u001b[A\n",
      "Training epoch:  35%|███▌      | 35/100 [00:00<00:00, 164.46it/s]\u001b[A\n",
      "Training epoch:  54%|█████▍    | 54/100 [00:00<00:00, 169.81it/s]\u001b[A\n",
      "Training epoch:  73%|███████▎  | 73/100 [00:00<00:00, 173.38it/s]\u001b[A\n",
      "Training epoch:  90%|█████████ | 90/100 [00:00<00:00, 172.17it/s]\u001b[A\n",
      "                                                                 \u001b[AINFO:pykeen.utilities.evaluation_utils.metrics_computations:Evaluation took 0.07s seconds\n"
     ]
    },
    {
     "name": "stderr",
     "output_type": "stream",
     "text": [
      "HPO Iteration:  90%|█████████ | 45/50 [00:23<00:02,  1.90it/s]\n",
      "Training epoch:   0%|          | 0/100 [00:00<?, ?it/s]\u001b[A\n",
      "Training epoch:  17%|█▋        | 17/100 [00:00<00:00, 163.41it/s]\u001b[A\n",
      "Training epoch:  34%|███▍      | 34/100 [00:00<00:00, 165.11it/s]\u001b[A\n",
      "Training epoch:  51%|█████     | 51/100 [00:00<00:00, 165.14it/s]\u001b[A\n",
      "Training epoch:  68%|██████▊   | 68/100 [00:00<00:00, 165.93it/s]\u001b[A\n",
      "Training epoch:  85%|████████▌ | 85/100 [00:00<00:00, 165.38it/s]\u001b[A\n",
      "                                                                 \u001b[AINFO:pykeen.utilities.evaluation_utils.metrics_computations:Evaluation took 0.07s seconds\n",
      "HPO Iteration:  92%|█████████▏| 46/50 [00:24<00:02,  1.74it/s]\n",
      "Training epoch:   0%|          | 0/100 [00:00<?, ?it/s]\u001b[A\n",
      "Training epoch:  18%|█▊        | 18/100 [00:00<00:00, 177.29it/s]\u001b[A\n",
      "Training epoch:  34%|███▍      | 34/100 [00:00<00:00, 171.27it/s]\u001b[A\n",
      "Training epoch:  52%|█████▏    | 52/100 [00:00<00:00, 171.51it/s]\u001b[A\n",
      "Training epoch:  68%|██████▊   | 68/100 [00:00<00:00, 167.41it/s]\u001b[A\n",
      "Training epoch:  86%|████████▌ | 86/100 [00:00<00:00, 169.63it/s]\u001b[A\n",
      "                                                                 \u001b[AINFO:pykeen.utilities.evaluation_utils.metrics_computations:Evaluation took 0.07s seconds\n",
      "HPO Iteration:  94%|█████████▍| 47/50 [00:25<00:01,  1.65it/s]\n",
      "Training epoch:   0%|          | 0/100 [00:00<?, ?it/s]\u001b[A\n",
      "Training epoch:  19%|█▉        | 19/100 [00:00<00:00, 182.27it/s]\u001b[A\n",
      "Training epoch:  38%|███▊      | 38/100 [00:00<00:00, 182.93it/s]\u001b[A\n",
      "Training epoch:  57%|█████▋    | 57/100 [00:00<00:00, 183.18it/s]\u001b[A\n",
      "Training epoch:  76%|███████▌  | 76/100 [00:00<00:00, 184.36it/s]\u001b[A\n",
      "Training epoch:  94%|█████████▍| 94/100 [00:00<00:00, 182.87it/s]\u001b[A\n",
      "                                                                 \u001b[AINFO:pykeen.utilities.evaluation_utils.metrics_computations:Evaluation took 0.07s seconds\n",
      "HPO Iteration:  96%|█████████▌| 48/50 [00:25<00:01,  1.63it/s]\n",
      "Training epoch:   0%|          | 0/50 [00:00<?, ?it/s]\u001b[A\n",
      "Training epoch:  36%|███▌      | 18/50 [00:00<00:00, 177.96it/s]\u001b[A\n",
      "Training epoch:  74%|███████▍  | 37/50 [00:00<00:00, 178.98it/s]\u001b[A\n",
      "                                                                \u001b[AINFO:pykeen.utilities.evaluation_utils.metrics_computations:Evaluation took 0.07s seconds\n",
      "HPO Iteration:  98%|█████████▊| 49/50 [00:26<00:00,  1.86it/s]\n",
      "Training epoch:   0%|          | 0/100 [00:00<?, ?it/s]\u001b[A\n",
      "Training epoch:  16%|█▌        | 16/100 [00:00<00:00, 152.03it/s]\u001b[A\n",
      "Training epoch:  31%|███       | 31/100 [00:00<00:00, 150.24it/s]\u001b[A\n",
      "Training epoch:  45%|████▌     | 45/100 [00:00<00:00, 145.63it/s]\u001b[A\n",
      "Training epoch:  58%|█████▊    | 58/100 [00:00<00:00, 139.44it/s]\u001b[A\n",
      "Training epoch:  72%|███████▏  | 72/100 [00:00<00:00, 137.44it/s]\u001b[A\n",
      "Training epoch:  86%|████████▌ | 86/100 [00:00<00:00, 137.72it/s]\u001b[A\n",
      "                                                                 \u001b[AINFO:pykeen.utilities.evaluation_utils.metrics_computations:Evaluation took 0.08s seconds\n",
      "HPO Iteration: 100%|██████████| 50/50 [00:27<00:00,  1.63it/s]\n"
     ]
    }
   ],
   "source": [
    "results = pykeen.run(\n",
    "    config=config,\n",
    "    output_directory=output_directory,\n",
    ")"
   ]
  },
  {
   "cell_type": "markdown",
   "metadata": {},
   "source": [
    "Check result entries:"
   ]
  },
  {
   "cell_type": "code",
   "execution_count": 13,
   "metadata": {},
   "outputs": [
    {
     "data": {
      "text/plain": [
       "odict_keys(['trained_model', 'losses', 'entity_to_embedding', 'relation_to_embedding', 'eval_summary', 'entity_to_id', 'relation_to_id', 'final_configuration'])"
      ]
     },
     "execution_count": 13,
     "metadata": {},
     "output_type": "execute_result"
    }
   ],
   "source": [
    "results.results.keys()"
   ]
  },
  {
   "cell_type": "markdown",
   "metadata": {},
   "source": [
    "Get the model configuration that lead to best results:"
   ]
  },
  {
   "cell_type": "code",
   "execution_count": 14,
   "metadata": {},
   "outputs": [
    {
     "data": {
      "text/plain": [
       "{'training_set_path': '../../tests/resources/data/rdf.nt',\n",
       " 'test_set_path': '../../tests/resources/data/rdf.nt',\n",
       " 'execution_mode': 'HPO_mode',\n",
       " 'random_seed': 0,\n",
       " 'kg_embedding_model_name': 'TransE',\n",
       " 'embedding_dim': 100,\n",
       " 'scoring_function': 1,\n",
       " 'normalization_of_entities': 2,\n",
       " 'margin_loss': 5,\n",
       " 'learning_rate': 0.1,\n",
       " 'num_epochs': 100,\n",
       " 'batch_size': 32,\n",
       " 'filter_negative_triples': True,\n",
       " 'maximum_number_of_hpo_iters': 50,\n",
       " 'preferred_device': 'cpu',\n",
       " 'num_entities': 89,\n",
       " 'num_relations': 24}"
      ]
     },
     "execution_count": 14,
     "metadata": {},
     "output_type": "execute_result"
    }
   ],
   "source": [
    "results.results['final_configuration']"
   ]
  },
  {
   "cell_type": "markdown",
   "metadata": {},
   "source": [
    "Access trained model:"
   ]
  },
  {
   "cell_type": "code",
   "execution_count": 15,
   "metadata": {},
   "outputs": [
    {
     "data": {
      "text/plain": [
       "TransE(\n",
       "  (criterion): MarginRankingLoss()\n",
       "  (entity_embeddings): Embedding(89, 100)\n",
       "  (relation_embeddings): Embedding(24, 100)\n",
       ")"
      ]
     },
     "execution_count": 15,
     "metadata": {},
     "output_type": "execute_result"
    }
   ],
   "source": [
    "results.results['trained_model']"
   ]
  },
  {
   "cell_type": "markdown",
   "metadata": {},
   "source": [
    "Visualize loss values:"
   ]
  },
  {
   "cell_type": "code",
   "execution_count": 16,
   "metadata": {},
   "outputs": [
    {
     "data": {
      "image/png": "[encoded data removed]",
      "text/plain": [
       "<Figure size 432x288 with 1 Axes>"
      ]
     },
     "metadata": {
      "needs_background": "light"
     },
     "output_type": "display_data"
    }
   ],
   "source": [
    "losses = results.results['losses']\n",
    "epochs = np.arange(len(losses))\n",
    "plt.title(r'Loss Per Epoch')\n",
    "plt.xlabel('epoch')\n",
    "plt.ylabel('loss')\n",
    "plt.plot(epochs, losses)\n",
    "plt.show()"
   ]
  },
  {
   "cell_type": "markdown",
   "metadata": {},
   "source": [
    "Get evaluation results:\n",
    " * Mean rank\n",
    " * Hits@k, k $\\in$ {1,3,5,10} "
   ]
  },
  {
   "cell_type": "code",
   "execution_count": 17,
   "metadata": {},
   "outputs": [
    {
     "data": {
      "text/plain": [
       "{'mean_rank': 1.679245283018868,\n",
       " 'hits@k': {1: 0.7547169811320755,\n",
       "  3: 0.8443396226415094,\n",
       "  5: 0.8726415094339622,\n",
       "  10: 0.9198113207547169}}"
      ]
     },
     "execution_count": 17,
     "metadata": {},
     "output_type": "execute_result"
    }
   ],
   "source": [
    "results.results['eval_summary']"
   ]
  }
 ],
 "metadata": {
  "kernelspec": {
   "display_name": "Python 3",
   "language": "python",
   "name": "python3"
  },
  "language_info": {
   "codemirror_mode": {
    "name": "ipython",
    "version": 3
   },
   "file_extension": ".py",
   "mimetype": "text/x-python",
   "name": "python",
   "nbconvert_exporter": "python",
   "pygments_lexer": "ipython3",
   "version": "3.7.1"
  }
 },
 "nbformat": 4,
 "nbformat_minor": 2
}
