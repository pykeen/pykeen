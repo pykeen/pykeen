{
 "cells": [
  {
   "cell_type": "code",
   "execution_count": 1,
   "metadata": {},
   "outputs": [],
   "source": [
    "import logging\n",
    "import os\n",
    "import sys\n",
    "import time\n",
    "\n",
    "import numpy as np\n",
    "import matplotlib.pyplot as plt\n",
    "import pykeen"
   ]
  },
  {
   "cell_type": "code",
   "execution_count": 2,
   "metadata": {},
   "outputs": [
    {
     "name": "stdout",
     "output_type": "stream",
     "text": [
      "Fri Apr 12 14:10:01 2019\n"
     ]
    }
   ],
   "source": [
    "print(time.asctime())"
   ]
  },
  {
   "cell_type": "code",
   "execution_count": 3,
   "metadata": {},
   "outputs": [
    {
     "name": "stdout",
     "output_type": "stream",
     "text": [
      "0.0.25\n"
     ]
    }
   ],
   "source": [
    "print(pykeen.get_version())"
   ]
  },
  {
   "cell_type": "code",
   "execution_count": 4,
   "metadata": {},
   "outputs": [],
   "source": [
    "model_directory = '../../tests/resources/data/trained_model'"
   ]
  },
  {
   "cell_type": "markdown",
   "metadata": {},
   "source": [
    "Prepare inference workflow"
   ]
  },
  {
   "cell_type": "markdown",
   "metadata": {},
   "source": [
    "Set path to model directory: Done above"
   ]
  },
  {
   "cell_type": "markdown",
   "metadata": {},
   "source": [
    "Set path to data directory:\n",
    "* Should contain the candidate entities as *entities.tsv*\n",
    "* Should contain the candidate relations as *relations.tsv*"
   ]
  },
  {
   "cell_type": "code",
   "execution_count": 9,
   "metadata": {},
   "outputs": [],
   "source": [
    "data_directory = '../../tests/resources/data'"
   ]
  },
  {
   "cell_type": "markdown",
   "metadata": {},
   "source": [
    "Set path to triples that should be removed from the candidate triples. We want to exclude all the tripels from the training set:"
   ]
  },
  {
   "cell_type": "code",
   "execution_count": 10,
   "metadata": {},
   "outputs": [],
   "source": [
    "path_to_blacklisted_triples = '../../tests/resources/data/rdf.nt'"
   ]
  },
  {
   "cell_type": "code",
   "execution_count": 11,
   "metadata": {},
   "outputs": [],
   "source": [
    "from pykeen.predict import start_predictions_pipeline"
   ]
  },
  {
   "cell_type": "code",
   "execution_count": 12,
   "metadata": {},
   "outputs": [],
   "source": [
    "predictions = start_predictions_pipeline(model_directory=model_directory,\n",
    "                                         data_directory=data_directory,\n",
    "                                         path_to_blacklisted_triples=path_to_blacklisted_triples,\n",
    "                                         export_predictions=False)"
   ]
  },
  {
   "cell_type": "markdown",
   "metadata": {},
   "source": [
    "Lower value represent a higher confidence:"
   ]
  },
  {
   "cell_type": "code",
   "execution_count": 13,
   "metadata": {},
   "outputs": [
    {
     "data": {
      "text/plain": [
       "array([['http://dbpedia.org/resource/Charles_Dickens',\n",
       "        'http://dbpedia.org/ontology/influenced', 'Charles', '11.70977'],\n",
       "       ['http://dbpedia.org/resource/Gads_Hill_Place',\n",
       "        'http://xmlns.com/foaf/0.1/givenName', 'Charles', '12.307508'],\n",
       "       ['http://dbpedia.org/resource/Charles_Dickens',\n",
       "        'http://xmlns.com/foaf/0.1/givenName',\n",
       "        'http://dbpedia.org/resource/Gads_Hill_Place', '12.387417'],\n",
       "       ['Charles', 'http://commons.dbpedia.org/property/description',\n",
       "        'http://dbpedia.org/resource/Charles_Dickens', '12.43775'],\n",
       "       ['http://dbpedia.org/resource/Gads_Hill_Place',\n",
       "        'http://dbpedia.org/ontology/influenced', 'Charles', '12.506025'],\n",
       "       ['http://dbpedia.org/resource/Gads_Hill_Place',\n",
       "        'http://xmlns.com/foaf/0.1/givenName',\n",
       "        'http://dbpedia.org/resource/Charles_Dickens', '12.712023'],\n",
       "       ['http://dbpedia.org/resource/Gads_Hill_Place',\n",
       "        'http://commons.dbpedia.org/property/description',\n",
       "        'http://dbpedia.org/resource/Charles_Dickens', '12.817721'],\n",
       "       ['http://dbpedia.org/resource/Gads_Hill_Place',\n",
       "        'http://dbpedia.org/ontology/influenced',\n",
       "        'http://dbpedia.org/resource/Charles_Dickens', '12.827785'],\n",
       "       ['http://commons.dbpedia.org/resource/File:Hunebed_010.jpg',\n",
       "        'http://commons.dbpedia.org/property/description', 'Charles',\n",
       "        '13.023836'],\n",
       "       ['http://commons.dbpedia.org/resource/File:Hunebed_010.jpg',\n",
       "        'http://commons.dbpedia.org/property/description',\n",
       "        'http://dbpedia.org/resource/Gads_Hill_Place', '13.05122'],\n",
       "       ['http://commons.dbpedia.org/resource/Category:Places',\n",
       "        'http://xmlns.com/foaf/0.1/givenName', 'Charles', '13.138028'],\n",
       "       ['http://dbpedia.org/resource/Charles_Dickens',\n",
       "        'http://dbpedia.org/ontology/influenced',\n",
       "        'http://dbpedia.org/resource/Gads_Hill_Place', '13.169109'],\n",
       "       ['http://commons.dbpedia.org/resource/File:Hunebed_010.jpg',\n",
       "        'http://commons.dbpedia.org/property/description',\n",
       "        'http://dbpedia.org/resource/Charles_Dickens', '13.282457'],\n",
       "       ['http://dbpedia.org/resource/Charles_Dickens',\n",
       "        'http://xmlns.com/foaf/0.1/givenName',\n",
       "        'http://commons.dbpedia.org/resource/Category:Places',\n",
       "        '13.299363'],\n",
       "       ['Charles', 'http://dbpedia.org/ontology/influenced',\n",
       "        'http://dbpedia.org/resource/Charles_Dickens', '13.509007'],\n",
       "       ['http://commons.dbpedia.org/resource/Category:Places',\n",
       "        'http://dbpedia.org/ontology/influenced', 'Charles', '13.548036'],\n",
       "       ['http://commons.dbpedia.org/resource/Category:Places',\n",
       "        'http://commons.dbpedia.org/property/description',\n",
       "        'http://dbpedia.org/resource/Charles_Dickens', '13.650365'],\n",
       "       ['http://dbpedia.org/resource/Gads_Hill_Place',\n",
       "        'http://xmlns.com/foaf/0.1/givenName',\n",
       "        'http://commons.dbpedia.org/resource/Category:Places',\n",
       "        '13.690367'],\n",
       "       ['http://commons.dbpedia.org/resource/Category:Places',\n",
       "        'http://xmlns.com/foaf/0.1/givenName',\n",
       "        'http://dbpedia.org/resource/Gads_Hill_Place', '13.701712'],\n",
       "       ['http://commons.dbpedia.org/resource/Category:Places',\n",
       "        'http://dbpedia.org/ontology/influenced',\n",
       "        'http://dbpedia.org/resource/Gads_Hill_Place', '13.754728'],\n",
       "       ['http://dbpedia.org/resource/Gads_Hill_Place',\n",
       "        'http://dbpedia.org/ontology/influenced',\n",
       "        'http://commons.dbpedia.org/resource/File:Hunebed_010.jpg',\n",
       "        '13.863836'],\n",
       "       ['http://commons.dbpedia.org/resource/Category:Places',\n",
       "        'http://dbpedia.org/ontology/influenced',\n",
       "        'http://dbpedia.org/resource/Charles_Dickens', '13.9121475'],\n",
       "       ['http://commons.dbpedia.org/resource/Category:Places',\n",
       "        'http://dbpedia.org/ontology/influenced',\n",
       "        'http://commons.dbpedia.org/resource/File:Hunebed_010.jpg',\n",
       "        '13.947112'],\n",
       "       ['http://commons.dbpedia.org/resource/File:Hunebed_010.jpg',\n",
       "        'http://dbpedia.org/ontology/influenced', 'Charles', '14.024791'],\n",
       "       ['http://commons.dbpedia.org/resource/File:Hunebed_010.jpg',\n",
       "        'http://commons.dbpedia.org/property/description',\n",
       "        'http://commons.dbpedia.org/resource/Category:Places',\n",
       "        '14.035669'],\n",
       "       ['http://commons.dbpedia.org/resource/File:Hunebed_010.jpg',\n",
       "        'http://xmlns.com/foaf/0.1/givenName',\n",
       "        'http://dbpedia.org/resource/Gads_Hill_Place', '14.041544'],\n",
       "       ['http://commons.dbpedia.org/resource/Category:Places',\n",
       "        'http://xmlns.com/foaf/0.1/givenName',\n",
       "        'http://commons.dbpedia.org/resource/File:Hunebed_010.jpg',\n",
       "        '14.047376'],\n",
       "       ['http://commons.dbpedia.org/resource/Category:Places',\n",
       "        'http://xmlns.com/foaf/0.1/givenName',\n",
       "        'http://dbpedia.org/resource/Charles_Dickens', '14.063106'],\n",
       "       ['http://dbpedia.org/resource/Charles_Dickens',\n",
       "        'http://dbpedia.org/ontology/influenced',\n",
       "        'http://commons.dbpedia.org/resource/Category:Places',\n",
       "        '14.136443'],\n",
       "       ['Charles', 'http://commons.dbpedia.org/property/description',\n",
       "        'http://dbpedia.org/resource/Gads_Hill_Place', '14.198575'],\n",
       "       ['http://dbpedia.org/resource/Gads_Hill_Place',\n",
       "        'http://dbpedia.org/ontology/influenced',\n",
       "        'http://commons.dbpedia.org/resource/Category:Places',\n",
       "        '14.200301'],\n",
       "       ['Charles', 'http://xmlns.com/foaf/0.1/givenName',\n",
       "        'http://dbpedia.org/resource/Charles_Dickens', '14.2078495'],\n",
       "       ['http://dbpedia.org/resource/Gads_Hill_Place',\n",
       "        'http://xmlns.com/foaf/0.1/givenName',\n",
       "        'http://commons.dbpedia.org/resource/File:Hunebed_010.jpg',\n",
       "        '14.325604'],\n",
       "       ['http://commons.dbpedia.org/resource/Category:Places',\n",
       "        'http://commons.dbpedia.org/property/description',\n",
       "        'http://dbpedia.org/resource/Gads_Hill_Place', '14.4647045'],\n",
       "       ['http://dbpedia.org/resource/Charles_Dickens',\n",
       "        'http://commons.dbpedia.org/property/description', 'Charles',\n",
       "        '14.514587'],\n",
       "       ['http://commons.dbpedia.org/resource/File:Hunebed_010.jpg',\n",
       "        'http://xmlns.com/foaf/0.1/givenName', 'Charles', '14.643627'],\n",
       "       ['http://commons.dbpedia.org/resource/File:Hunebed_010.jpg',\n",
       "        'http://xmlns.com/foaf/0.1/givenName',\n",
       "        'http://commons.dbpedia.org/resource/Category:Places',\n",
       "        '14.661995'],\n",
       "       ['http://dbpedia.org/resource/Charles_Dickens',\n",
       "        'http://commons.dbpedia.org/property/description',\n",
       "        'http://dbpedia.org/resource/Gads_Hill_Place', '14.767093'],\n",
       "       ['http://dbpedia.org/resource/Charles_Dickens',\n",
       "        'http://xmlns.com/foaf/0.1/givenName',\n",
       "        'http://commons.dbpedia.org/resource/File:Hunebed_010.jpg',\n",
       "        '14.786227'],\n",
       "       ['http://commons.dbpedia.org/resource/File:Hunebed_010.jpg',\n",
       "        'http://dbpedia.org/ontology/influenced',\n",
       "        'http://commons.dbpedia.org/resource/Category:Places',\n",
       "        '14.8453045'],\n",
       "       ['http://commons.dbpedia.org/resource/File:Hunebed_010.jpg',\n",
       "        'http://dbpedia.org/ontology/influenced',\n",
       "        'http://dbpedia.org/resource/Gads_Hill_Place', '14.848667'],\n",
       "       ['Charles', 'http://xmlns.com/foaf/0.1/givenName',\n",
       "        'http://dbpedia.org/resource/Gads_Hill_Place', '15.089749'],\n",
       "       ['Charles', 'http://dbpedia.org/ontology/influenced',\n",
       "        'http://dbpedia.org/resource/Gads_Hill_Place', '15.154168'],\n",
       "       ['Charles', 'http://dbpedia.org/ontology/influenced',\n",
       "        'http://commons.dbpedia.org/resource/File:Hunebed_010.jpg',\n",
       "        '15.248032'],\n",
       "       ['http://commons.dbpedia.org/resource/Category:Places',\n",
       "        'http://commons.dbpedia.org/property/description', 'Charles',\n",
       "        '15.263551'],\n",
       "       ['Charles', 'http://xmlns.com/foaf/0.1/givenName',\n",
       "        'http://commons.dbpedia.org/resource/Category:Places',\n",
       "        '15.274493'],\n",
       "       ['http://dbpedia.org/resource/Gads_Hill_Place',\n",
       "        'http://commons.dbpedia.org/property/description',\n",
       "        'http://commons.dbpedia.org/resource/Category:Places',\n",
       "        '15.39386'],\n",
       "       ['http://dbpedia.org/resource/Charles_Dickens',\n",
       "        'http://dbpedia.org/ontology/influenced',\n",
       "        'http://commons.dbpedia.org/resource/File:Hunebed_010.jpg',\n",
       "        '15.415242'],\n",
       "       ['Charles', 'http://dbpedia.org/ontology/influenced',\n",
       "        'http://commons.dbpedia.org/resource/Category:Places',\n",
       "        '15.521307'],\n",
       "       ['http://dbpedia.org/resource/Gads_Hill_Place',\n",
       "        'http://commons.dbpedia.org/property/description', 'Charles',\n",
       "        '15.603811'],\n",
       "       ['http://commons.dbpedia.org/resource/File:Hunebed_010.jpg',\n",
       "        'http://dbpedia.org/ontology/influenced',\n",
       "        'http://dbpedia.org/resource/Charles_Dickens', '15.68888'],\n",
       "       ['Charles', 'http://xmlns.com/foaf/0.1/givenName',\n",
       "        'http://commons.dbpedia.org/resource/File:Hunebed_010.jpg',\n",
       "        '15.877299'],\n",
       "       ['Charles', 'http://commons.dbpedia.org/property/description',\n",
       "        'http://commons.dbpedia.org/resource/Category:Places',\n",
       "        '15.913451'],\n",
       "       ['http://commons.dbpedia.org/resource/File:Hunebed_010.jpg',\n",
       "        'http://xmlns.com/foaf/0.1/givenName',\n",
       "        'http://dbpedia.org/resource/Charles_Dickens', '16.216688'],\n",
       "       ['http://dbpedia.org/resource/Charles_Dickens',\n",
       "        'http://commons.dbpedia.org/property/description',\n",
       "        'http://commons.dbpedia.org/resource/Category:Places',\n",
       "        '16.626091'],\n",
       "       ['http://commons.dbpedia.org/resource/Category:Places',\n",
       "        'http://commons.dbpedia.org/property/description',\n",
       "        'http://commons.dbpedia.org/resource/File:Hunebed_010.jpg',\n",
       "        '16.766003'],\n",
       "       ['http://dbpedia.org/resource/Gads_Hill_Place',\n",
       "        'http://commons.dbpedia.org/property/description',\n",
       "        'http://commons.dbpedia.org/resource/File:Hunebed_010.jpg',\n",
       "        '17.381638'],\n",
       "       ['Charles', 'http://commons.dbpedia.org/property/description',\n",
       "        'http://commons.dbpedia.org/resource/File:Hunebed_010.jpg',\n",
       "        '17.813648'],\n",
       "       ['http://dbpedia.org/resource/Charles_Dickens',\n",
       "        'http://commons.dbpedia.org/property/description',\n",
       "        'http://commons.dbpedia.org/resource/File:Hunebed_010.jpg',\n",
       "        '18.793848']], dtype='<U56')"
      ]
     },
     "execution_count": 13,
     "metadata": {},
     "output_type": "execute_result"
    }
   ],
   "source": [
    "predictions"
   ]
  }
 ],
 "metadata": {
  "kernelspec": {
   "display_name": "Python 3",
   "language": "python",
   "name": "python3"
  },
  "language_info": {
   "codemirror_mode": {
    "name": "ipython",
    "version": 3
   },
   "file_extension": ".py",
   "mimetype": "text/x-python",
   "name": "python",
   "nbconvert_exporter": "python",
   "pygments_lexer": "ipython3",
   "version": "3.7.1"
  }
 },
 "nbformat": 4,
 "nbformat_minor": 2
}
